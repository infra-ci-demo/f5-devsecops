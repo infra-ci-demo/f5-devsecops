{
 "cells": [
  {
   "cell_type": "markdown",
   "metadata": {
    "lc_cell_meme": {
     "current": "b97cccfc-0420-11e9-93fc-0242ac110002",
     "history": [
      {
       "current": "b97cccfc-0420-11e9-93fc-0242ac110002",
       "next": "b97cceb4-0420-11e9-93fc-0242ac110002",
       "previous": null
      },
      {
       "current": "b97cccfc-0420-11e9-93fc-0242ac110002",
       "next": "b97ccfb8-0420-11e9-93fc-0242ac110002",
       "previous": null
      }
     ],
     "next": "05314a2c-0423-11e9-93fc-0242ac110002",
     "previous": null
    }
   },
   "source": [
    "# デモ環境の構築方法"
   ]
  },
  {
   "cell_type": "markdown",
   "metadata": {
    "lc_cell_meme": {
     "current": "05314a2c-0423-11e9-93fc-0242ac110002",
     "next": "b97ccfb8-0420-11e9-93fc-0242ac110002",
     "previous": "b97cccfc-0420-11e9-93fc-0242ac110002"
    }
   },
   "source": [
    "以下の手順でデモ環境を構築してください。"
   ]
  },
  {
   "cell_type": "markdown",
   "metadata": {
    "lc_cell_meme": {
     "current": "b97ccfb8-0420-11e9-93fc-0242ac110002",
     "history": [
      {
       "current": "b97ccfb8-0420-11e9-93fc-0242ac110002",
       "next": null,
       "previous": "b97cceb4-0420-11e9-93fc-0242ac110002"
      },
      {
       "current": "b97ccfb8-0420-11e9-93fc-0242ac110002",
       "next": null,
       "previous": "b97cccfc-0420-11e9-93fc-0242ac110002"
      }
     ],
     "next": "05314ce8-0423-11e9-93fc-0242ac110002",
     "previous": "05314a2c-0423-11e9-93fc-0242ac110002"
    }
   },
   "source": [
    "## GitLab CI環境の構築"
   ]
  },
  {
   "cell_type": "markdown",
   "metadata": {
    "lc_cell_meme": {
     "current": "05314ce8-0423-11e9-93fc-0242ac110002",
     "next": "05314ea0-0423-11e9-93fc-0242ac110002",
     "previous": "b97ccfb8-0420-11e9-93fc-0242ac110002"
    }
   },
   "source": [
    "インベントリー（[inv_gitlab.yml](/edit/f5-devsecops/inv_gitlab.yml)）を編集して、接続先の情報を編集します。"
   ]
  },
  {
   "cell_type": "markdown",
   "metadata": {
    "lc_cell_meme": {
     "current": "05314ea0-0423-11e9-93fc-0242ac110002",
     "history": [
      {
       "current": "05314ea0-0423-11e9-93fc-0242ac110002",
       "next": null,
       "previous": "05314ce8-0423-11e9-93fc-0242ac110002"
      }
     ],
     "next": "4cb8049e-0423-11e9-93fc-0242ac110002",
     "previous": "05314ce8-0423-11e9-93fc-0242ac110002"
    }
   },
   "source": [
    "```\n",
    "   ansible_host: 10.208.81.221       ← GitLabを起動するサーバーのIPアドレス\n",
    "   ansible_user: centos              ← sudo 可能なユーザー（もしくはroot）\n",
    "   ansible_ssh_pass: redhat          ← 接続パスワード。鍵認証を使う場合は行ごと削除する\n",
    "   gitlab_root_password: password    ← GitLabの管理者パスワード(複雑なものへ変更する)\n",
    "   gitlab_runner_token: token-AABBCC ← GitLabが内部で使うトークン(複雑なものへ変更する)\n",
    "```"
   ]
  },
  {
   "cell_type": "markdown",
   "metadata": {
    "lc_cell_meme": {
     "current": "4cb8049e-0423-11e9-93fc-0242ac110002",
     "history": [
      {
       "current": "4cb8049e-0423-11e9-93fc-0242ac110002",
       "next": null,
       "previous": "05314ea0-0423-11e9-93fc-0242ac110002"
      }
     ],
     "next": "943eae58-0423-11e9-93fc-0242ac110002",
     "previous": "05314ea0-0423-11e9-93fc-0242ac110002"
    }
   },
   "source": [
    "セットアップを実行（5～15分程度）"
   ]
  },
  {
   "cell_type": "code",
   "execution_count": null,
   "metadata": {
    "lc_cell_meme": {
     "current": "943eae58-0423-11e9-93fc-0242ac110002",
     "next": "943eb092-0423-11e9-93fc-0242ac110002",
     "previous": "4cb8049e-0423-11e9-93fc-0242ac110002"
    }
   },
   "outputs": [],
   "source": [
    "ansible-playbook -i inv_gitlab.yml start_gitlab.yml"
   ]
  },
  {
   "cell_type": "markdown",
   "metadata": {
    "lc_cell_meme": {
     "current": "943eb092-0423-11e9-93fc-0242ac110002",
     "next": "943eb236-0423-11e9-93fc-0242ac110002",
     "previous": "943eae58-0423-11e9-93fc-0242ac110002"
    }
   },
   "source": [
    "終了したらブラウザで`http://{{ ansible_host }}:8080` へアクセスし、`root/設定したパスワード`でログインする。\n",
    "\n",
    "ログイン後の動作確認は以下で実施\n",
    "\n",
    "1. New Project → Import project → Repo by URL → Git repository URL `https://github.com/infra-ci-demo/f5-devsecops.git` を入力して Create project\n",
    "1. インポートが終了したら、CI / CD → Pipelines → Run Pipelines → Create pipeline\n",
    "1. パイプラインが正常終了すればセットアップは成功\n"
   ]
  },
  {
   "cell_type": "markdown",
   "metadata": {
    "lc_cell_meme": {
     "current": "943eb236-0423-11e9-93fc-0242ac110002",
     "next": "05314ce8-0423-11e9-93fc-0242ac110002",
     "previous": "943eb092-0423-11e9-93fc-0242ac110002"
    }
   },
   "source": [
    "## Tower 環境の構築"
   ]
  },
  {
   "cell_type": "markdown",
   "metadata": {
    "lc_cell_meme": {
     "current": "05314ce8-0423-11e9-93fc-0242ac110002",
     "history": [
      {
       "current": "05314ce8-0423-11e9-93fc-0242ac110002",
       "next": "05314ea0-0423-11e9-93fc-0242ac110002",
       "previous": "b97ccfb8-0420-11e9-93fc-0242ac110002"
      }
     ],
     "next": "943eb33a-0423-11e9-93fc-0242ac110002",
     "previous": "943eb236-0423-11e9-93fc-0242ac110002"
    }
   },
   "source": [
    "インベントリー（[inv_tower.yml](/edit/f5-devsecops/inv_tower.yml)）を編集して、接続先の情報を編集します。"
   ]
  },
  {
   "cell_type": "markdown",
   "metadata": {
    "lc_cell_meme": {
     "current": "943eb33a-0423-11e9-93fc-0242ac110002",
     "next": "943eb416-0423-11e9-93fc-0242ac110002",
     "previous": "05314ce8-0423-11e9-93fc-0242ac110002"
    }
   },
   "source": [
    "```\n",
    "  ansible_host: 10.208.81.222       ← GitLabを起動するサーバーのIPアドレス\n",
    "  ansible_user: centos              ← sudo 可能なユーザー（もしくはroot）\n",
    "  ansible_ssh_pass: redhat          ← 接続パスワード。鍵認証を使う場合は行ごと削除する\n",
    "  tower_password: password          ← Towerの管理者パスワード(複雑なものへ変更する)\n",
    "```"
   ]
  },
  {
   "cell_type": "markdown",
   "metadata": {
    "lc_cell_meme": {
     "current": "943eb416-0423-11e9-93fc-0242ac110002",
     "next": "943eb556-0423-11e9-93fc-0242ac110002",
     "previous": "943eb33a-0423-11e9-93fc-0242ac110002"
    }
   },
   "source": [
    "セットアップを実行（5～15分程度）"
   ]
  },
  {
   "cell_type": "code",
   "execution_count": null,
   "metadata": {
    "lc_cell_meme": {
     "current": "943eb556-0423-11e9-93fc-0242ac110002",
     "history": [
      {
       "current": "943eb556-0423-11e9-93fc-0242ac110002",
       "next": null,
       "previous": "943eb416-0423-11e9-93fc-0242ac110002"
      }
     ],
     "next": "ac7cc766-0423-11e9-93fc-0242ac110002",
     "previous": "943eb416-0423-11e9-93fc-0242ac110002"
    }
   },
   "outputs": [],
   "source": [
    "ansible-playbook -i inv_tower.yml start_tower.yml"
   ]
  },
  {
   "cell_type": "markdown",
   "metadata": {
    "lc_cell_meme": {
     "current": "ac7cc766-0423-11e9-93fc-0242ac110002",
     "next": null,
     "previous": "943eb556-0423-11e9-93fc-0242ac110002"
    }
   },
   "source": [
    "終了したらブラウザで`http://{{ ansible_host }}` へアクセスし、`root/設定したパスワード`でログインし、ライセンスを設定する（ライセンスの取得は別途行う）。"
   ]
  }
 ],
 "metadata": {
  "kernelspec": {
   "display_name": "Bash",
   "language": "bash",
   "name": "bash"
  },
  "language_info": {
   "codemirror_mode": "shell",
   "file_extension": ".sh",
   "mimetype": "text/x-sh",
   "name": "bash"
  },
  "lc_notebook_meme": {
   "current": "b97cca40-0420-11e9-93fc-0242ac110002",
   "lc_server_signature": {
    "current": {
     "notebook_dir": "/notebooks",
     "notebook_path": "/f5-devsecops",
     "server_url": "http://localhost:8888/",
     "signature_id": "50b23996-0420-11e9-93fc-0242ac110002"
    },
    "history": []
   }
  },
  "toc": {
   "base_numbering": 1,
   "nav_menu": {},
   "number_sections": true,
   "sideBar": true,
   "skip_h1_title": true,
   "title_cell": "Table of Contents",
   "title_sidebar": "Contents",
   "toc_cell": false,
   "toc_position": {},
   "toc_section_display": true,
   "toc_window_display": true
  }
 },
 "nbformat": 4,
 "nbformat_minor": 2
}
